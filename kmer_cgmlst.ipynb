{
 "cells": [
  {
   "cell_type": "markdown",
   "metadata": {},
   "source": [
    "Tasks\n",
    "=====\n",
    "\n",
    "- [x] Get test FASTQ\n",
    "- [ ] Get test FASTA\n",
    "- [ ] Note actual marker call\n",
    "- Write various kmer selection strategies\n",
    "    - [x] Exhaustive\n",
    "    - [x] Flanks\n",
    "    - [x] End-to-end\n",
    "    - [ ] Variable\n",
    "    - [ ] Conserved\n",
    "- [ ] Extract reads matching kmers\n",
    "\n",
    "\n",
    "Notes\n",
    "=====\n",
    "\n",
    "- A-C seems to take the same amount of time regardless of kmer length\n",
    "- KAT gets faster on longer kmers"
   ]
  },
  {
   "cell_type": "code",
   "execution_count": 24,
   "metadata": {},
   "outputs": [],
   "source": [
    "import timeit\n",
    "from Bio import SeqIO\n",
    "from pathlib import Path\n",
    "import subprocess\n",
    "from typing import Set\n",
    "from ahocorasick import Automaton\n",
    "import pandas as pd\n",
    "from collections import defaultdict"
   ]
  },
  {
   "cell_type": "code",
   "execution_count": 8,
   "metadata": {},
   "outputs": [],
   "source": [
    "def yield_fasta_sequences(alleles_path: Path):\n",
    "    with alleles_path.open('r') as f:\n",
    "        for record in SeqIO.parse(f, 'fasta'):\n",
    "            yield str(record.seq)"
   ]
  },
  {
   "cell_type": "code",
   "execution_count": 9,
   "metadata": {},
   "outputs": [],
   "source": [
    "def kmer_to_fasta(kmers: Set[str]):\n",
    "    \n",
    "    return '\\n'.join(f'>{i}\\n{s}' for i, s in enumerate(kmers))"
   ]
  },
  {
   "cell_type": "code",
   "execution_count": 19,
   "metadata": {},
   "outputs": [],
   "source": [
    "def init_automaton(scheme_fasta):\n",
    "    \"\"\"Initialize Aho-Corasick Automaton with kmers from SNV scheme fasta\n",
    "    Args:\n",
    "        scheme_fasta: SNV scheme fasta file path\n",
    "    Returns:\n",
    "         Aho-Corasick Automaton with kmers loaded\n",
    "    \"\"\"\n",
    "    A = Automaton()\n",
    "    with scheme_fasta.open('r') as f:\n",
    "        for record in SeqIO.parse(f, 'fasta'):\n",
    "            header = record.id\n",
    "            seq = str(record.seq)\n",
    "            A.add_word(seq, (header, seq, False))\n",
    "            A.add_word(revcomp(seq), (header, seq, True))\n",
    "    A.make_automaton()\n",
    "    return A"
   ]
  },
  {
   "cell_type": "code",
   "execution_count": 22,
   "metadata": {},
   "outputs": [],
   "source": [
    "def revcomp(seq):\n",
    "    complements = {\n",
    "        'A': 'T',\n",
    "        'T': 'A',\n",
    "        'G': 'C',\n",
    "        'C': 'G'\n",
    "    }\n",
    "    \n",
    "    return ''.join(complements[x] for x in reversed(seq))\n"
   ]
  },
  {
   "cell_type": "code",
   "execution_count": 11,
   "metadata": {},
   "outputs": [],
   "source": [
    "def find_in_fastqs(A: Automaton, *fastqs):\n",
    "    \"\"\"Find scheme kmers in input fastq files\n",
    "    Args:\n",
    "        A: Aho-Corasick Automaton with scheme SNV target kmers loaded\n",
    "        fastqs: Input fastq file paths\n",
    "    Returns:\n",
    "        Dataframe with any matches found in input fastq files\n",
    "    \"\"\"\n",
    "    kmer_seq_counts = defaultdict(int)\n",
    "    for fastq in fastqs:\n",
    "        with fastq.open('r') as f:\n",
    "               \n",
    "            for record in SeqIO.parse(f, 'fastq'):\n",
    "                sequence = str(record.seq)\n",
    "                for idx, (_, kmer_seq, _) in A.iter(sequence):\n",
    "                    kmer_seq_counts[kmer_seq] += 1\n",
    "                \n",
    "    res = []\n",
    "    for kmer_seq, freq in kmer_seq_counts.items():\n",
    "        kmername, sequence, _ = A.get(kmer_seq)\n",
    "        res.append((kmername, kmer_seq, freq))\n",
    "  \n",
    "    df = pd.DataFrame(res, columns=['kmername', 'seq', 'freq'])\n",
    "    return df"
   ]
  },
  {
   "cell_type": "code",
   "execution_count": 12,
   "metadata": {
    "jupyter": {
     "source_hidden": true
    }
   },
   "outputs": [],
   "source": [
    "def kat_filter(kmer_fasta: Path, fwd_fastq: Path, rev_fastq: Path, kmer_size: int):\n",
    "    \n",
    "    cmd = (\n",
    "        'kat', 'filter', 'seq',\n",
    "        '-t', '1',\n",
    "        '-m', str(kmer_size),\n",
    "        '-o', 'testo',\n",
    "        '--seq', str(fwd_fastq),\n",
    "        '--seq2', str(rev_fastq),\n",
    "        str(kmer_fasta)\n",
    "    )\n",
    "    \n",
    "    subprocess.run(cmd)"
   ]
  },
  {
   "cell_type": "code",
   "execution_count": 39,
   "metadata": {},
   "outputs": [],
   "source": [
    "def exhaustive(alleles_path: Path, kmer_size: int):\n",
    "    kmers = set()\n",
    "    for seq in yield_fasta_sequences(alleles_path):\n",
    "        \n",
    "        seq_length = len(seq)\n",
    "        start = 0\n",
    "        end = start + kmer_size\n",
    "        \n",
    "        while end < seq_length:\n",
    "            kmers.add(seq[start : end])\n",
    "        \n",
    "    return kmers"
   ]
  },
  {
   "cell_type": "code",
   "execution_count": 14,
   "metadata": {},
   "outputs": [],
   "source": [
    "def flanks(alleles_path: Path, kmer_size: int):\n",
    "    kmers = set()\n",
    "    for seq in yield_fasta_sequences(alleles_path):\n",
    "        \n",
    "        kmers.add(seq[0 : kmer_size])\n",
    "        kmers.add(seq[-kmer_size : ])\n",
    "        \n",
    "    return kmers"
   ]
  },
  {
   "cell_type": "code",
   "execution_count": 15,
   "metadata": {},
   "outputs": [],
   "source": [
    "def end_to_end(alleles_path: Path, kmer_size):\n",
    "    \n",
    "    kmers = set()\n",
    "    \n",
    "    for seq in yield_fasta_sequences(alleles_path):\n",
    "        \n",
    "        seq_length = len(seq)\n",
    "        breaks = range(0, seq_length, kmer_size)\n",
    "        \n",
    "        kmers_ = set(seq[i : i + kmer_size] for i in breaks if i + kmer_size < seq_length)\n",
    "        \n",
    "        kmers = kmers.union(kmers_)\n",
    "        \n",
    "    return kmers\n",
    "        "
   ]
  },
  {
   "cell_type": "code",
   "execution_count": 47,
   "metadata": {},
   "outputs": [
    {
     "data": {
      "text/plain": [
       "119492"
      ]
     },
     "execution_count": 47,
     "metadata": {},
     "output_type": "execute_result"
    }
   ],
   "source": [
    "alleles = Path(\"test/aarA.fasta\")\n",
    "test_kmers = Path('test/test_kmers.fasta')\n",
    "kmers = end_to_end(alleles, 125)\n",
    "fwd, rev = Path('test/CI-5429/').glob('*.fastq')\n",
    "test_kmers.write_text(kmer_to_fasta(kmers))"
   ]
  },
  {
   "cell_type": "code",
   "execution_count": 48,
   "metadata": {},
   "outputs": [
    {
     "name": "stdout",
     "output_type": "stream",
     "text": [
      "CPU times: user 28.3 s, sys: 181 ms, total: 28.5 s\n",
      "Wall time: 28 s\n"
     ]
    }
   ],
   "source": [
    "automaton = init_automaton(test_kmers)\n",
    "%time res = find_in_fastqs(automaton, fwd, rev)"
   ]
  },
  {
   "cell_type": "code",
   "execution_count": 49,
   "metadata": {},
   "outputs": [
    {
     "name": "stdout",
     "output_type": "stream",
     "text": [
      "    kmername                                                seq  freq\n",
      "0        607  GATTATTACAATATCCTTGGTTTGAATATTTTATTTTTTAATGGAG...     8\n",
      "1        661  TTATTACAATATCCTTGGTTTGAATATTTTATTTTTTAATGGAGCT...     8\n",
      "2        664  TATTACAATATCCTTGGTTTGAATATTTTATTTTTTAATGGAGCTT...     9\n",
      "3        299  TTACAATATCCTTGGTTTGAATATTTTATTTTTTAATGGAGCTTAT...    10\n",
      "4        579  TACAATATCCTTGGTTTGAATATTTTATTTTTTAATGGAGCTTATT...    10\n",
      "..       ...                                                ...   ...\n",
      "123      902  TTTATTTATTTTATTGGCGGATTGTTGTGCTCACTTTTAAGTGTTT...     4\n",
      "124      150  TTGCTTACAATTTTTTTAATTTTTTTAAATATTTTATGTTATTTTT...     2\n",
      "125      171  GCTTACAATTTTTTTAATTTTTTTAAATATTTTATGTTATTTTTTG...     2\n",
      "126      518  CAATTTTTTTAATTTTTTTAAATATTTTATGTTATTTTTTGATTTC...     2\n",
      "127      162  AATTTTTTTAATTTTTTTAAATATTTTATGTTATTTTTTGATTTCT...     2\n",
      "\n",
      "[128 rows x 3 columns]\n"
     ]
    }
   ],
   "source": [
    "print(res)"
   ]
  },
  {
   "cell_type": "code",
   "execution_count": 51,
   "metadata": {},
   "outputs": [
    {
     "data": {
      "text/plain": [
       "763"
      ]
     },
     "execution_count": 51,
     "metadata": {},
     "output_type": "execute_result"
    }
   ],
   "source": [
    "sum(res.freq)"
   ]
  },
  {
   "cell_type": "code",
   "execution_count": null,
   "metadata": {},
   "outputs": [],
   "source": []
  }
 ],
 "metadata": {
  "kernelspec": {
   "display_name": "Python 3",
   "language": "python",
   "name": "python3"
  },
  "language_info": {
   "codemirror_mode": {
    "name": "ipython",
    "version": 3
   },
   "file_extension": ".py",
   "mimetype": "text/x-python",
   "name": "python",
   "nbconvert_exporter": "python",
   "pygments_lexer": "ipython3",
   "version": "3.7.6"
  }
 },
 "nbformat": 4,
 "nbformat_minor": 4
}
